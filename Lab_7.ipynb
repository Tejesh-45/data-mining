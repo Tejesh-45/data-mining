{
  "nbformat": 4,
  "nbformat_minor": 0,
  "metadata": {
    "colab": {
      "provenance": [],
      "authorship_tag": "ABX9TyOEHGNUxzp80mTR48WkJq4g",
      "include_colab_link": true
    },
    "kernelspec": {
      "name": "python3",
      "display_name": "Python 3"
    },
    "language_info": {
      "name": "python"
    }
  },
  "cells": [
    {
      "cell_type": "markdown",
      "metadata": {
        "id": "view-in-github",
        "colab_type": "text"
      },
      "source": [
        "<a href=\"https://colab.research.google.com/github/Tejesh-45/data-mining/blob/main/Lab_7.ipynb\" target=\"_parent\"><img src=\"https://colab.research.google.com/assets/colab-badge.svg\" alt=\"Open In Colab\"/></a>"
      ]
    },
    {
      "cell_type": "code",
      "execution_count": 2,
      "metadata": {
        "id": "1uzTn0jLtVWi"
      },
      "outputs": [],
      "source": [
        "import numpy as np\n",
        "import pandas as pd\n",
        "import matplotlib.pyplot as plt\n",
        "import seaborn as sns\n",
        "from scipy import stats\n",
        "\n"
      ]
    },
    {
      "cell_type": "code",
      "source": [
        "np.random.seed(42)\n",
        "data=np.random.normal(0,1,100)\n",
        "outliers=np.random.uniform(5,10,5)\n",
        "print(data)"
      ],
      "metadata": {
        "colab": {
          "base_uri": "https://localhost:8080/"
        },
        "id": "1Ou_n2kg1tpe",
        "outputId": "ee4465aa-fccc-4bb2-dc77-f1c80ff48421"
      },
      "execution_count": 13,
      "outputs": [
        {
          "output_type": "stream",
          "name": "stdout",
          "text": [
            "[ 0.49671415 -0.1382643   0.64768854  1.52302986 -0.23415337 -0.23413696\n",
            "  1.57921282  0.76743473 -0.46947439  0.54256004 -0.46341769 -0.46572975\n",
            "  0.24196227 -1.91328024 -1.72491783 -0.56228753 -1.01283112  0.31424733\n",
            " -0.90802408 -1.4123037   1.46564877 -0.2257763   0.0675282  -1.42474819\n",
            " -0.54438272  0.11092259 -1.15099358  0.37569802 -0.60063869 -0.29169375\n",
            " -0.60170661  1.85227818 -0.01349722 -1.05771093  0.82254491 -1.22084365\n",
            "  0.2088636  -1.95967012 -1.32818605  0.19686124  0.73846658  0.17136828\n",
            " -0.11564828 -0.3011037  -1.47852199 -0.71984421 -0.46063877  1.05712223\n",
            "  0.34361829 -1.76304016  0.32408397 -0.38508228 -0.676922    0.61167629\n",
            "  1.03099952  0.93128012 -0.83921752 -0.30921238  0.33126343  0.97554513\n",
            " -0.47917424 -0.18565898 -1.10633497 -1.19620662  0.81252582  1.35624003\n",
            " -0.07201012  1.0035329   0.36163603 -0.64511975  0.36139561  1.53803657\n",
            " -0.03582604  1.56464366 -2.6197451   0.8219025   0.08704707 -0.29900735\n",
            "  0.09176078 -1.98756891 -0.21967189  0.35711257  1.47789404 -0.51827022\n",
            " -0.8084936  -0.50175704  0.91540212  0.32875111 -0.5297602   0.51326743\n",
            "  0.09707755  0.96864499 -0.70205309 -0.32766215 -0.39210815 -1.46351495\n",
            "  0.29612028  0.26105527  0.00511346 -0.23458713]\n"
          ]
        }
      ]
    },
    {
      "cell_type": "code",
      "source": [
        "data_with_outliers=np.concatenate([data,outliers])\n",
        "\n",
        "df=pd.DataFrame(data_with_outliers,columns=['value'])\n",
        "\n",
        "Q1=df['value'].quantile(0.25)\n",
        "Q3=df['value'].quantile(0.75)\n",
        "IQR=Q3-Q1\n",
        "\n",
        "lower_bound=Q1-1.5*IQR\n",
        "upper_bound=Q3+1.5*IQR\n",
        "\n",
        "outliers_iqr=df[]"
      ],
      "metadata": {
        "colab": {
          "base_uri": "https://localhost:8080/"
        },
        "id": "0wC4JLZEtWXI",
        "outputId": "e1ef17e9-5ea3-4b44-a0f7-637cf705ce50"
      },
      "execution_count": 16,
      "outputs": [
        {
          "output_type": "stream",
          "name": "stdout",
          "text": [
            "-2.3232332563637335\n",
            "2.372622015963629\n"
          ]
        }
      ]
    },
    {
      "cell_type": "code",
      "source": [
        "outliers_iqr=df[(df['value']<lower_bound) | (df['value']>upper_bound)]\n",
        "z_scores=stats.zscore(df['value'])\n",
        "outliers_z=df[np.abs(z_scores)>3]\n",
        "plt.figure(figsize=(10,8))\n",
        "sns.boxplot(x=df['value'])\n",
        "plt.title('Boxplot with Outliers')\n",
        "plt.show()"
      ],
      "metadata": {
        "colab": {
          "base_uri": "https://localhost:8080/",
          "height": 718
        },
        "id": "HkgJgHwN8GLc",
        "outputId": "12c75716-103a-435e-c004-f594b2a7c8be"
      },
      "execution_count": 21,
      "outputs": [
        {
          "output_type": "display_data",
          "data": {
            "text/plain": [
              "<Figure size 1000x800 with 1 Axes>"
            ],
            "image/png": "[encoded data removed]"
          },
          "metadata": {}
        }
      ]
    },
    {
      "cell_type": "code",
      "source": [
        "df_capped=df.copy()\n",
        "df_capped['value']=np.clip(df_capped['value'],lower_bound,upper_bound)\n",
        "print(df)"
      ],
      "metadata": {
        "colab": {
          "base_uri": "https://localhost:8080/"
        },
        "id": "j-1GH5kJFQJL",
        "outputId": "8fa89442-18b1-4902-d7b8-98511506fb34"
      },
      "execution_count": 28,
      "outputs": [
        {
          "output_type": "stream",
          "name": "stdout",
          "text": [
            "        value\n",
            "0    0.496714\n",
            "1   -0.138264\n",
            "2    0.647689\n",
            "3    1.523030\n",
            "4   -0.234153\n",
            "..        ...\n",
            "100  7.087055\n",
            "101  6.110539\n",
            "102  5.599327\n",
            "103  6.688076\n",
            "104  9.714549\n",
            "\n",
            "[105 rows x 1 columns]\n"
          ]
        }
      ]
    },
    {
      "cell_type": "code",
      "source": [
        "df_removed=df.copy()\n",
        "df_removed=df_removed[(df_removed['value']>=lower_bound) &\n",
        "(df_removed['value']<=upper_bound)]\n",
        "print(df_removed)"
      ],
      "metadata": {
        "colab": {
          "base_uri": "https://localhost:8080/"
        },
        "id": "MPRJcDQ9FRSl",
        "outputId": "db5c108c-2110-4bb9-eb9c-298e08b738f4"
      },
      "execution_count": 30,
      "outputs": [
        {
          "output_type": "stream",
          "name": "stdout",
          "text": [
            "       value\n",
            "0   0.496714\n",
            "1  -0.138264\n",
            "2   0.647689\n",
            "3   1.523030\n",
            "4  -0.234153\n",
            "..       ...\n",
            "95 -1.463515\n",
            "96  0.296120\n",
            "97  0.261055\n",
            "98  0.005113\n",
            "99 -0.234587\n",
            "\n",
            "[99 rows x 1 columns]\n"
          ]
        }
      ]
    },
    {
      "cell_type": "code",
      "source": [
        "df_imputed=df.copy()\n",
        "median_value=df_imputed['value'].median()\n",
        "df_imputed['value']=np.where((df_imputed['value']<lower_bound) |\n",
        "(df_imputed['value']>upper_bound),median_value,df_imputed['value'])\n",
        "print(df_imputed)"
      ],
      "metadata": {
        "colab": {
          "base_uri": "https://localhost:8080/"
        },
        "id": "ryU5Hc6kFRWD",
        "outputId": "bf0348f9-91e1-4628-801e-ca19c36709b3"
      },
      "execution_count": 29,
      "outputs": [
        {
          "output_type": "stream",
          "name": "stdout",
          "text": [
            "        value\n",
            "0    0.496714\n",
            "1   -0.138264\n",
            "2    0.647689\n",
            "3    1.523030\n",
            "4   -0.234153\n",
            "..        ...\n",
            "100 -0.035826\n",
            "101 -0.035826\n",
            "102 -0.035826\n",
            "103 -0.035826\n",
            "104 -0.035826\n",
            "\n",
            "[105 rows x 1 columns]\n"
          ]
        }
      ]
    },
    {
      "cell_type": "code",
      "source": [
        "df_removed=df.copy()\n",
        "df_removed=df_removed[(df_removed['value']>=lower_bound) &\n",
        "(df_removed['value']<=upper_bound)]\n",
        "print(df_removed)"
      ],
      "metadata": {
        "colab": {
          "base_uri": "https://localhost:8080/"
        },
        "id": "2O4PSDxGEmTY",
        "outputId": "e0fe4222-91ab-4189-dc8c-e392cb2fb1ba"
      },
      "execution_count": 32,
      "outputs": [
        {
          "output_type": "stream",
          "name": "stdout",
          "text": [
            "       value\n",
            "0   0.496714\n",
            "1  -0.138264\n",
            "2   0.647689\n",
            "3   1.523030\n",
            "4  -0.234153\n",
            "..       ...\n",
            "95 -1.463515\n",
            "96  0.296120\n",
            "97  0.261055\n",
            "98  0.005113\n",
            "99 -0.234587\n",
            "\n",
            "[99 rows x 1 columns]\n"
          ]
        }
      ]
    },
    {
      "cell_type": "code",
      "source": [
        "df_imputed=df.copy()\n",
        "median_value=df_imputed['value'].median()\n",
        "df_imputed['value']=np.where((df_imputed['value']<lower_bound) |\n",
        "(df_imputed['value']>upper_bound),median_value,df_imputed['value'])\n",
        "print(df_imputed)\n",
        "plt.figure(figsize=(8,6))\n",
        "sns.boxplot(x=df_imputed['value'])\n",
        "plt.title('Capped Outliers')\n",
        "plt.show()"
      ],
      "metadata": {
        "colab": {
          "base_uri": "https://localhost:8080/",
          "height": 807
        },
        "id": "HAVBtFy5EmVt",
        "outputId": "e66162f7-b6f0-4ab5-8edc-d360a3671a63"
      },
      "execution_count": 31,
      "outputs": [
        {
          "output_type": "stream",
          "name": "stdout",
          "text": [
            "        value\n",
            "0    0.496714\n",
            "1   -0.138264\n",
            "2    0.647689\n",
            "3    1.523030\n",
            "4   -0.234153\n",
            "..        ...\n",
            "100 -0.035826\n",
            "101 -0.035826\n",
            "102 -0.035826\n",
            "103 -0.035826\n",
            "104 -0.035826\n",
            "\n",
            "[105 rows x 1 columns]\n"
          ]
        },
        {
          "output_type": "display_data",
          "data": {
            "text/plain": [
              "<Figure size 800x600 with 1 Axes>"
            ],
            "image/png": "[encoded data removed]"
          },
          "metadata": {}
        }
      ]
    },
    {
      "cell_type": "code",
      "source": [
        "\n"
      ],
      "metadata": {
        "colab": {
          "base_uri": "https://localhost:8080/"
        },
        "id": "RZonQVRq-5QT",
        "outputId": "eee9c2ab-3761-4e18-e7db-3b08da42a2dc"
      },
      "execution_count": 27,
      "outputs": [
        {
          "output_type": "stream",
          "name": "stdout",
          "text": [
            "        value\n",
            "0    0.496714\n",
            "1   -0.138264\n",
            "2    0.647689\n",
            "3    1.523030\n",
            "4   -0.234153\n",
            "..        ...\n",
            "100 -0.035826\n",
            "101 -0.035826\n",
            "102 -0.035826\n",
            "103 -0.035826\n",
            "104 -0.035826\n",
            "\n",
            "[105 rows x 1 columns]\n"
          ]
        }
      ]
    }
  ]
}