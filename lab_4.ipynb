{
  "nbformat": 4,
  "nbformat_minor": 0,
  "metadata": {
    "colab": {
      "provenance": [],
      "authorship_tag": "ABX9TyMkdVGDKlCfownZINtUVqFI",
      "include_colab_link": true
    },
    "kernelspec": {
      "name": "python3",
      "display_name": "Python 3"
    },
    "language_info": {
      "name": "python"
    }
  },
  "cells": [
    {
      "cell_type": "markdown",
      "metadata": {
        "id": "view-in-github",
        "colab_type": "text"
      },
      "source": [
        "<a href=\"https://colab.research.google.com/github/Tejesh-45/data-mining/blob/main/lab_4.ipynb\" target=\"_parent\"><img src=\"https://colab.research.google.com/assets/colab-badge.svg\" alt=\"Open In Colab\"/></a>"
      ]
    },
    {
      "cell_type": "code",
      "execution_count": 1,
      "metadata": {
        "id": "e7ETuNRsk0EG"
      },
      "outputs": [],
      "source": [
        "import numpy as np\n",
        "import pandas as pd"
      ]
    },
    {
      "cell_type": "code",
      "source": [
        "df=pd.read_csv('/content/wine_data.csv')\n",
        "print(df)"
      ],
      "metadata": {
        "colab": {
          "base_uri": "https://localhost:8080/"
        },
        "id": "KdVhhENTmPuK",
        "outputId": "51deadee-a17b-4bf8-99a6-9aa8fcf69f6b"
      },
      "execution_count": 5,
      "outputs": [
        {
          "output_type": "stream",
          "name": "stdout",
          "text": [
            "       fixed_acidity  volatile_acidity  citric_acid  residual_sugar  \\\n",
            "0               11.6             0.580         0.66            2.20   \n",
            "1               10.4             0.610         0.49            2.10   \n",
            "2                7.4             1.185         0.00            4.25   \n",
            "3               10.4             0.440         0.42            1.50   \n",
            "4                8.3             1.020         0.02            3.40   \n",
            "...              ...               ...          ...             ...   \n",
            "20995            9.7             1.020         0.91           50.00   \n",
            "20996           10.2             0.610         0.88           53.80   \n",
            "20997           13.4             0.460         1.04           52.10   \n",
            "20998            6.6             1.030         1.09           25.30   \n",
            "20999            9.3             0.930         1.32           33.60   \n",
            "\n",
            "       chlorides  free_sulfur_dioxide  total_sulfur_dioxide  density    pH  \\\n",
            "0          0.074                 10.0                  47.0  1.00080  3.25   \n",
            "1          0.200                  5.0                  16.0  0.99940  3.16   \n",
            "2          0.097                  5.0                  14.0  0.99660  3.63   \n",
            "3          0.145                 34.0                  48.0  0.99832  3.38   \n",
            "4          0.084                  6.0                  11.0  0.99892  3.48   \n",
            "...          ...                  ...                   ...      ...   ...   \n",
            "20995      0.412                114.6                 181.7  1.02085  3.30   \n",
            "20996      0.250                 62.4                 204.7  1.02776  3.52   \n",
            "20997      0.449                 63.0                 273.5  1.02618  2.89   \n",
            "20998      0.138                179.8                 295.0  1.02476  2.94   \n",
            "20999      0.412                128.7                 290.1  1.02182  3.16   \n",
            "\n",
            "       sulphates  alcohol  quality  \n",
            "0           0.57      9.0        3  \n",
            "1           0.63      8.4        3  \n",
            "2           0.54     10.7        3  \n",
            "3           0.86      9.9        3  \n",
            "4           0.49     11.0        3  \n",
            "...          ...      ...      ...  \n",
            "20995       0.89     12.0        9  \n",
            "20996       1.14      9.7        9  \n",
            "20997       1.76      9.3        9  \n",
            "20998       1.54     12.9        9  \n",
            "20999       1.42     13.0        9  \n",
            "\n",
            "[21000 rows x 12 columns]\n"
          ]
        }
      ]
    },
    {
      "cell_type": "code",
      "source": [
        "import pandas as pd\n",
        "from sklearn.preprocessing import LabelEncoder\n",
        "\n",
        "9"
      ],
      "metadata": {
        "colab": {
          "base_uri": "https://localhost:8080/"
        },
        "id": "YIgzdNQ9mPxg",
        "outputId": "4c38e30a-3a6d-4e3e-e0d1-f16c385ae20f"
      },
      "execution_count": 9,
      "outputs": [
        {
          "output_type": "stream",
          "name": "stdout",
          "text": [
            "Mean Alcohol Content by Quality:\n",
            "quality\n",
            "3    11.624750\n",
            "4    11.553267\n",
            "5    10.371093\n",
            "6    10.646033\n",
            "7    11.619100\n",
            "8    11.595200\n",
            "9    11.632567\n",
            "Name: alcohol, dtype: float64\n",
            "\n",
            "Average Total Acidity by Quality:\n",
            "         total_acidity\n",
            "quality               \n",
            "3            12.908573\n",
            "4            12.597317\n",
            "5             9.445082\n",
            "6             8.088332\n",
            "7            10.979415\n",
            "8            12.584022\n",
            "9            12.957470\n"
          ]
        }
      ]
    },
    {
      "cell_type": "code",
      "source": [
        "# Load the dataset\n",
        "file_path = \"/content/wine_data.csv\"\n",
        "df = pd.read_csv(file_path)\n"
      ],
      "metadata": {
        "id": "aYarl7PEqEcS"
      },
      "execution_count": 10,
      "outputs": []
    },
    {
      "cell_type": "code",
      "source": [
        "\n",
        "# 1. Label Encoding the 'quality' column\n",
        "label_encoder = LabelEncoder()\n",
        "df[\"quality_encoded\"] = label_encoder.fit_transform(df[\"quality\"])\n",
        "\n"
      ],
      "metadata": {
        "id": "rzktkkKwnVKY"
      },
      "execution_count": null,
      "outputs": []
    },
    {
      "cell_type": "code",
      "source": [
        "# 2. Creating a derived column 'total_acidity'\n",
        "df[\"total_acidity\"] = df[\"fixed_acidity\"] + df[\"volatile_acidity\"] + df[\"citric_acid\"]\n",
        "\n"
      ],
      "metadata": {
        "colab": {
          "base_uri": "https://localhost:8080/"
        },
        "id": "22VmBq5dnVM7",
        "outputId": "d6999d61-97ba-4607-ad1d-1fdc64fe1a2b"
      },
      "execution_count": 11,
      "outputs": [
        {
          "output_type": "stream",
          "name": "stdout",
          "text": [
            "Mean Alcohol Content by Quality:\n",
            "quality\n",
            "3    11.624750\n",
            "4    11.553267\n",
            "5    10.371093\n",
            "6    10.646033\n",
            "7    11.619100\n",
            "8    11.595200\n",
            "9    11.632567\n",
            "Name: alcohol, dtype: float64\n",
            "\n",
            "Average Total Acidity by Quality:\n",
            "         total_acidity\n",
            "quality               \n",
            "3            12.908573\n",
            "4            12.597317\n",
            "5             9.445082\n",
            "6             8.088332\n",
            "7            10.979415\n",
            "8            12.584022\n",
            "9            12.957470\n"
          ]
        }
      ]
    },
    {
      "cell_type": "code",
      "source": [
        "# 3. Grouping and Aggregation: Mean alcohol content by quality\n",
        "quality_grouped = df.groupby(\"quality\")[\"alcohol\"].mean()\n",
        "print(\"Mean Alcohol Content by Quality:\")\n",
        "print(quality_grouped)\n",
        "\n"
      ],
      "metadata": {
        "colab": {
          "base_uri": "https://localhost:8080/"
        },
        "id": "pOCHPx6JnVPe",
        "outputId": "e1e64f92-7dce-45fa-87ca-24714d0fa12f"
      },
      "execution_count": 12,
      "outputs": [
        {
          "output_type": "stream",
          "name": "stdout",
          "text": [
            "Mean Alcohol Content by Quality:\n",
            "quality\n",
            "3    11.624750\n",
            "4    11.553267\n",
            "5    10.371093\n",
            "6    10.646033\n",
            "7    11.619100\n",
            "8    11.595200\n",
            "9    11.632567\n",
            "Name: alcohol, dtype: float64\n",
            "\n",
            "Average Total Acidity by Quality:\n",
            "         total_acidity\n",
            "quality               \n",
            "3            12.908573\n",
            "4            12.597317\n",
            "5             9.445082\n",
            "6             8.088332\n",
            "7            10.979415\n",
            "8            12.584022\n",
            "9            12.957470\n"
          ]
        }
      ]
    },
    {
      "cell_type": "code",
      "source": [
        "# 4. Pivot Table: Average acidity for different quality levels\n",
        "pivot_table = df.pivot_table(values=\"total_acidity\", index=\"quality\", aggfunc=\"mean\")\n",
        "print(\"\\nAverage Total Acidity by Quality:\")\n",
        "print(pivot_table)\n",
        "\n",
        "# Save the transformed dataset\n",
        "df.to_csv(\"/content/wine_data.csv\", index=False)"
      ],
      "metadata": {
        "colab": {
          "base_uri": "https://localhost:8080/"
        },
        "id": "1WpVBT_dnVS8",
        "outputId": "9eb5afd9-37a7-42cc-e94f-653afdfdeac4"
      },
      "execution_count": 13,
      "outputs": [
        {
          "output_type": "stream",
          "name": "stdout",
          "text": [
            "\n",
            "Average Total Acidity by Quality:\n",
            "         total_acidity\n",
            "quality               \n",
            "3            12.908573\n",
            "4            12.597317\n",
            "5             9.445082\n",
            "6             8.088332\n",
            "7            10.979415\n",
            "8            12.584022\n",
            "9            12.957470\n"
          ]
        }
      ]
    },
    {
      "cell_type": "code",
      "source": [
        "# 4. Pivot Table: Average acidity for different quality levels\n",
        "pivot_table = df.pivot_table(values=\"total_acidity\", index=\"quality\", aggfunc=\"mean\")\n",
        "print(\"\\nAverage Total Acidity by Quality:\")\n",
        "print(pivot_table)\n",
        "\n"
      ],
      "metadata": {
        "colab": {
          "base_uri": "https://localhost:8080/"
        },
        "id": "3hMrenBkqN7V",
        "outputId": "3d3c919c-2600-4541-fda3-65ac719b0c60"
      },
      "execution_count": 14,
      "outputs": [
        {
          "output_type": "stream",
          "name": "stdout",
          "text": [
            "\n",
            "Average Total Acidity by Quality:\n",
            "         total_acidity\n",
            "quality               \n",
            "3            12.908573\n",
            "4            12.597317\n",
            "5             9.445082\n",
            "6             8.088332\n",
            "7            10.979415\n",
            "8            12.584022\n",
            "9            12.957470\n"
          ]
        }
      ]
    },
    {
      "cell_type": "code",
      "source": [
        "# Save the transformed dataset\n",
        "df.to_csv(\"/content/wine_data.csv\", index=False)"
      ],
      "metadata": {
        "id": "WOCG1vNhqQk-"
      },
      "execution_count": 15,
      "outputs": []
    },
    {
      "cell_type": "code",
      "source": [],
      "metadata": {
        "id": "wYGOP--MqRtB"
      },
      "execution_count": null,
      "outputs": []
    }
  ]
}